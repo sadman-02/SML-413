{
  "nbformat": 4,
  "nbformat_minor": 0,
  "metadata": {
    "colab": {
      "provenance": [],
      "authorship_tag": "ABX9TyMidQjPaCDG92ILF8mYuYr5",
      "include_colab_link": true
    },
    "kernelspec": {
      "name": "python3",
      "display_name": "Python 3"
    },
    "language_info": {
      "name": "python"
    }
  },
  "cells": [
    {
      "cell_type": "markdown",
      "metadata": {
        "id": "view-in-github",
        "colab_type": "text"
      },
      "source": [
        "<a href=\"https://colab.research.google.com/github/sadman-02/SML-413/blob/main/SML_Assignment_4.ipynb\" target=\"_parent\"><img src=\"https://colab.research.google.com/assets/colab-badge.svg\" alt=\"Open In Colab\"/></a>"
      ]
    },
    {
      "cell_type": "markdown",
      "source": [
        "NAME: MD. Sadman Sakib\n",
        "\n",
        "ID : 2215151002\n",
        "\n",
        "SECTION: 7A1\n",
        "\n",
        "BATCH : 51\n",
        "\n",
        "COURSE : Simulation & Modeling Lab"
      ],
      "metadata": {
        "id": "2moEHsMM65LT"
      }
    },
    {
      "cell_type": "code",
      "source": [
        "import numpy as np"
      ],
      "metadata": {
        "id": "z7v9ZKvq6Los"
      },
      "execution_count": 4,
      "outputs": []
    },
    {
      "cell_type": "markdown",
      "source": [
        "QUESTION\n",
        "\n",
        "Generate two sets of from a normal distribution and perform a two-sample t-test.\n",
        "\n",
        "* Randomly generate 50 values from a normal distribution with a chosen mean (μ1) and standard deviation.\n",
        "* Randomly generate 50 values from a normal distribution with a different mean (μ2) and standard deviation.\n",
        "\n",
        "Use and determine whether the means differ significantly"
      ],
      "metadata": {
        "id": "s7LsUSdJ7C4m"
      }
    },
    {
      "cell_type": "code",
      "source": [
        "from scipy import stats\n",
        "import matplotlib.pyplot as plt"
      ],
      "metadata": {
        "id": "hiUTvzkm6-Ak"
      },
      "execution_count": 5,
      "outputs": []
    },
    {
      "cell_type": "code",
      "execution_count": 6,
      "metadata": {
        "colab": {
          "base_uri": "https://localhost:8080/",
          "height": 513
        },
        "id": "3Xha95nR586o",
        "outputId": "a756c5e9-e1ac-4aa7-943b-7c95273c1076"
      },
      "outputs": [
        {
          "output_type": "stream",
          "name": "stdout",
          "text": [
            "Sample 1 Mean: 12.7800\n",
            "Sample 2 Mean: 14.5200\n",
            "t-Statistic: -5.5357\n",
            "Degrees of Freedom: 5.0260\n",
            "p-Value: 0.0026\n",
            "Confidence Interval of Mean Difference: [-2.5467, -0.9333]\n",
            "Reject the null hypothesis. The means of the two samples are significantly different.\n"
          ]
        },
        {
          "output_type": "display_data",
          "data": {
            "text/plain": [
              "<Figure size 600x400 with 1 Axes>"
            ],
            "image/png": "[encoded data removed]"
          },
          "metadata": {}
        }
      ],
      "source": [
        "data1 = np.array([12.5, 13.2, 11.8, 13.5, 12.9])\n",
        "data2 = np.array( [14.2, 14.8, 14.5, 14.7, 14.4])\n",
        "\n",
        "t_statistic, p_value = stats.ttest_ind(data1, data2, equal_var=False)\n",
        "\n",
        "mean_diff = np.mean(data1) - np.mean(data2)\n",
        "std_err = np.sqrt(np.var(data1, ddof=1)/len(data1) + np.var(data2, ddof=1)/len(data2))\n",
        "df = (std_err**4) / ((np.var(data1, ddof=1)/len(data1))**2 / (len(data1)-1) + (np.var(data2, ddof=1)/len(data2))**2 / (len(data2)-1))\n",
        "ci = stats.t.interval(0.95, df, loc=mean_diff, scale=std_err)\n",
        "\n",
        "print(f\"Sample 1 Mean: {np.mean(data1):.4f}\")\n",
        "print(f\"Sample 2 Mean: {np.mean(data2):.4f}\")\n",
        "print(f\"t-Statistic: {t_statistic:.4f}\")\n",
        "print(f\"Degrees of Freedom: {df:.4f}\")\n",
        "print(f\"p-Value: {p_value:.4f}\")\n",
        "print(f\"Confidence Interval of Mean Difference: [{ci[0]:.4f}, {ci[1]:.4f}]\")\n",
        "\n",
        "alpha = 0.05\n",
        "if p_value < alpha:\n",
        "    print('Reject the null hypothesis. The means of the two samples are significantly different.')\n",
        "else:\n",
        "    print('Fail to reject the null hypothesis. The means of the two samples are not significantly different.')\n",
        "plt.figure(figsize=(6, 4))\n",
        "plt.bar([\"Sample 1\", \"Sample 2\"], [np.mean(data1), np.mean(data2)], color=['black', 'blue'], alpha=0.7)\n",
        "plt.errorbar([0, 1], [np.mean(data1), np.mean(data2)], yerr=[np.std(data1), np.std(data2)], fmt='k_', capsize=10)\n",
        "plt.title('Comparison of Sample Means')\n",
        "plt.ylabel('Mean Value')\n",
        "plt.grid(True)\n",
        "plt.show()"
      ]
    }
  ]
}